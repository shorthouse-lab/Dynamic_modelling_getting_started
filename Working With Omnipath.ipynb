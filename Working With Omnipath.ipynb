{
 "cells": [
  {
   "cell_type": "code",
   "execution_count": 3,
   "id": "7b4a04a9",
   "metadata": {},
   "outputs": [
    {
     "name": "stderr",
     "output_type": "stream",
     "text": [
      "'getOption(\"repos\")' replaces Bioconductor standard repositories, see\n",
      "'help(\"repositories\", package = \"BiocManager\")' for details.\n",
      "Replacement repositories:\n",
      "    CRAN: https://cran.r-project.org\n",
      "\n",
      "Bioconductor version 3.16 (BiocManager 1.30.22), R 4.2.0 (2022-04-22)\n",
      "\n",
      "Installing package(s) 'OmnipathR'\n",
      "\n",
      "also installing the dependencies ‘selectr’, ‘stringi’, ‘igraph’, ‘rmarkdown’, ‘rvest’, ‘stringr’, ‘tidyr’\n",
      "\n",
      "\n",
      "Warning message in install.packages(...):\n",
      "“installation of package ‘stringi’ had non-zero exit status”\n",
      "Warning message in install.packages(...):\n",
      "“installation of package ‘igraph’ had non-zero exit status”\n",
      "Warning message in install.packages(...):\n",
      "“installation of package ‘stringr’ had non-zero exit status”\n",
      "Warning message in install.packages(...):\n",
      "“installation of package ‘selectr’ had non-zero exit status”\n",
      "Warning message in install.packages(...):\n",
      "“installation of package ‘rmarkdown’ had non-zero exit status”\n",
      "Warning message in install.packages(...):\n",
      "“installation of package ‘tidyr’ had non-zero exit status”\n",
      "Warning message in install.packages(...):\n",
      "“installation of package ‘rvest’ had non-zero exit status”\n",
      "Warning message in install.packages(...):\n",
      "“installation of package ‘OmnipathR’ had non-zero exit status”\n",
      "Updating HTML index of packages in '.Library'\n",
      "\n",
      "Making 'packages.html' ...\n",
      " done\n",
      "\n",
      "Old packages: 'cluster', 'KernSmooth', 'nlme', 'pbdZMQ'\n",
      "\n"
     ]
    }
   ],
   "source": [
    "if (!requireNamespace('BiocManager', quietly = TRUE))\n",
    "    install.packages('BiocManager')\n",
    "\n",
    "## Last release in Bioconductor\n",
    "BiocManager::install('OmnipathR', version = '3.16')\n",
    "## Development version with the lastest updates\n",
    "#BiocManager::install('OmnipathR', version = 'devel')\n"
   ]
  },
  {
   "cell_type": "code",
   "execution_count": 4,
   "id": "020fce5b",
   "metadata": {},
   "outputs": [
    {
     "name": "stderr",
     "output_type": "stream",
     "text": [
      "'getOption(\"repos\")' replaces Bioconductor standard repositories, see\n",
      "'help(\"repositories\", package = \"BiocManager\")' for details.\n",
      "Replacement repositories:\n",
      "    CRAN: https://cran.r-project.org\n",
      "\n",
      "Bioconductor version 3.16 (BiocManager 1.30.22), R 4.2.0 (2022-04-22)\n",
      "\n",
      "Installing package(s) 'igraph'\n",
      "\n",
      "Warning message in install.packages(...):\n",
      "“installation of package ‘igraph’ had non-zero exit status”\n",
      "Updating HTML index of packages in '.Library'\n",
      "\n",
      "Making 'packages.html' ...\n",
      " done\n",
      "\n",
      "Old packages: 'cluster', 'KernSmooth', 'nlme', 'pbdZMQ'\n",
      "\n"
     ]
    }
   ],
   "source": [
    "library('omnipath')\n",
    "library('igraph')\n"
   ]
  },
  {
   "cell_type": "code",
   "execution_count": null,
   "id": "03a91d8c",
   "metadata": {},
   "outputs": [],
   "source": [
    "interactions <- import_omnipath_interactions(\n",
    "    resources = c('SignaLink3', 'PhosphoSite', 'SIGNOR')\n",
    ")\n",
    "OPI_g = interaction_graph(interactions = interactions)\n",
    "print_path_es(shortest_paths(OPI_g,from = 'APC',to = 'BMPR1B',\n",
    "    output = 'epath')$epath[[1]],OPI_g)"
   ]
  },
  {
   "cell_type": "markdown",
   "id": "6fa70381",
   "metadata": {},
   "source": [
    "\n",
    "           source interaction          target n_resources\n",
    "1    APC (P25054)  ==(+/-)==> CTNNB1 (P35222)          12\n",
    "2 CTNNB1 (P35222)  ==( + )==>  SMAD7 (O15105)           4\n",
    "3  SMAD7 (O15105)  ==( + )==> BMPR1B (O00238)           2"
   ]
  }
 ],
 "metadata": {
  "kernelspec": {
   "display_name": "R",
   "language": "R",
   "name": "ir"
  },
  "language_info": {
   "codemirror_mode": "r",
   "file_extension": ".r",
   "mimetype": "text/x-r-source",
   "name": "R",
   "pygments_lexer": "r",
   "version": "4.2.0"
  }
 },
 "nbformat": 4,
 "nbformat_minor": 5
}
