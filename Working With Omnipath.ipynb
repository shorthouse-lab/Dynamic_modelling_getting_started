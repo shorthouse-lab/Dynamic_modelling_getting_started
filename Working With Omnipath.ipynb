{
 "cells": [
  {
   "cell_type": "markdown",
   "id": "24e12a81-550d-4393-8393-11c7499f63fb",
   "metadata": {},
   "source": [
    "# Getting starting\n",
    "\n",
    "For this to work, you need to first install igraph through conda as below\n",
    "\n",
    "`conda install igraph`"
   ]
  },
  {
   "cell_type": "code",
   "execution_count": 8,
   "id": "7b4a04a9",
   "metadata": {},
   "outputs": [
    {
     "name": "stderr",
     "output_type": "stream",
     "text": [
      "'getOption(\"repos\")' replaces Bioconductor standard repositories, see\n",
      "'help(\"repositories\", package = \"BiocManager\")' for details.\n",
      "Replacement repositories:\n",
      "    CRAN: https://cran.r-project.org\n",
      "\n",
      "Bioconductor version 3.18 (BiocManager 1.30.22), R 4.3.3 (2024-02-29)\n",
      "\n",
      "Warning message:\n",
      "“package(s) not installed when version(s) same as or greater than current; use\n",
      "  `force = TRUE` to re-install: 'OmnipathR'”\n",
      "Old packages: 'digest', 'MASS'\n",
      "\n"
     ]
    }
   ],
   "source": [
    "if (!requireNamespace('BiocManager', quietly = TRUE))\n",
    "    install.packages('BiocManager')\n",
    "\n",
    "## Last release in Bioconductor\n",
    "BiocManager::install('OmnipathR', version = '3.18')\n",
    "## Development version with the lastest updates\n",
    "#BiocManager::install('OmnipathR', version = 'devel')\n"
   ]
  },
  {
   "cell_type": "code",
   "execution_count": 11,
   "id": "020fce5b",
   "metadata": {},
   "outputs": [
    {
     "name": "stderr",
     "output_type": "stream",
     "text": [
      "\n",
      "Attaching package: ‘igraph’\n",
      "\n",
      "\n",
      "The following objects are masked from ‘package:stats’:\n",
      "\n",
      "    decompose, spectrum\n",
      "\n",
      "\n",
      "The following object is masked from ‘package:base’:\n",
      "\n",
      "    union\n",
      "\n",
      "\n"
     ]
    }
   ],
   "source": [
    "library('OmnipathR')\n",
    "library('igraph')"
   ]
  },
  {
   "cell_type": "code",
   "execution_count": 12,
   "id": "03a91d8c",
   "metadata": {},
   "outputs": [
    {
     "data": {
      "text/html": [
       "<table class=\"dataframe\">\n",
       "<caption>A data.frame: 3 × 5</caption>\n",
       "<thead>\n",
       "\t<tr><th scope=col>source</th><th scope=col>interaction</th><th scope=col>target</th><th scope=col>n_resources</th><th scope=col>n_references</th></tr>\n",
       "\t<tr><th scope=col>&lt;chr&gt;</th><th scope=col>&lt;chr&gt;</th><th scope=col>&lt;chr&gt;</th><th scope=col>&lt;int&gt;</th><th scope=col>&lt;int&gt;</th></tr>\n",
       "</thead>\n",
       "<tbody>\n",
       "\t<tr><td><span style=white-space:pre-wrap>APC (P25054)   </span></td><td>==(+/-)==&gt;</td><td>CTNNB1 (P35222)</td><td>12</td><td>39</td></tr>\n",
       "\t<tr><td>CTNNB1 (P35222)</td><td>==( + )==&gt;</td><td>SMAD7 (O15105) </td><td> 4</td><td> 4</td></tr>\n",
       "\t<tr><td>SMAD7 (O15105) </td><td>==( + )==&gt;</td><td>BMPR1B (O00238)</td><td> 2</td><td> 3</td></tr>\n",
       "</tbody>\n",
       "</table>\n"
      ],
      "text/latex": [
       "A data.frame: 3 × 5\n",
       "\\begin{tabular}{lllll}\n",
       " source & interaction & target & n\\_resources & n\\_references\\\\\n",
       " <chr> & <chr> & <chr> & <int> & <int>\\\\\n",
       "\\hline\n",
       "\t APC (P25054)    & ==(+/-)==> & CTNNB1 (P35222) & 12 & 39\\\\\n",
       "\t CTNNB1 (P35222) & ==( + )==> & SMAD7 (O15105)  &  4 &  4\\\\\n",
       "\t SMAD7 (O15105)  & ==( + )==> & BMPR1B (O00238) &  2 &  3\\\\\n",
       "\\end{tabular}\n"
      ],
      "text/markdown": [
       "\n",
       "A data.frame: 3 × 5\n",
       "\n",
       "| source &lt;chr&gt; | interaction &lt;chr&gt; | target &lt;chr&gt; | n_resources &lt;int&gt; | n_references &lt;int&gt; |\n",
       "|---|---|---|---|---|\n",
       "| APC (P25054)    | ==(+/-)==&gt; | CTNNB1 (P35222) | 12 | 39 |\n",
       "| CTNNB1 (P35222) | ==( + )==&gt; | SMAD7 (O15105)  |  4 |  4 |\n",
       "| SMAD7 (O15105)  | ==( + )==&gt; | BMPR1B (O00238) |  2 |  3 |\n",
       "\n"
      ],
      "text/plain": [
       "  source          interaction target          n_resources n_references\n",
       "1 APC (P25054)    ==(+/-)==>  CTNNB1 (P35222) 12          39          \n",
       "2 CTNNB1 (P35222) ==( + )==>  SMAD7 (O15105)   4           4          \n",
       "3 SMAD7 (O15105)  ==( + )==>  BMPR1B (O00238)  2           3          "
      ]
     },
     "metadata": {},
     "output_type": "display_data"
    }
   ],
   "source": [
    "interactions <- import_omnipath_interactions(\n",
    "    resources = c('SignaLink3', 'PhosphoSite', 'SIGNOR')\n",
    ")\n",
    "OPI_g = interaction_graph(interactions = interactions)\n",
    "print_path_es(shortest_paths(OPI_g,from = 'APC',to = 'BMPR1B',\n",
    "    output = 'epath')$epath[[1]],OPI_g)"
   ]
  },
  {
   "cell_type": "code",
   "execution_count": 14,
   "id": "13c8a481-4042-47fa-a917-a279d48008cc",
   "metadata": {},
   "outputs": [
    {
     "name": "stderr",
     "output_type": "stream",
     "text": [
      "Warning message in shortest_paths(OPI_g, from = \"APC\", to = \"C3\", output = \"epath\"):\n",
      "“At vendor/cigraph/src/paths/unweighted.c:444 : Couldn't reach some vertices.”\n",
      "Empty path\n",
      "\n"
     ]
    },
    {
     "data": {
      "text/plain": [
       "NULL"
      ]
     },
     "metadata": {},
     "output_type": "display_data"
    }
   ],
   "source": [
    "print_path_es(shortest_paths(OPI_g,from = 'APC',to = 'C3',\n",
    "    output = 'epath')$epath[[1]],OPI_g)"
   ]
  },
  {
   "cell_type": "code",
   "execution_count": 15,
   "id": "557f0980-afab-48e0-a643-30b7e1097a62",
   "metadata": {},
   "outputs": [
    {
     "data": {
      "text/html": [
       "<table class=\"dataframe\">\n",
       "<caption>A data.frame: 6 × 5</caption>\n",
       "<thead>\n",
       "\t<tr><th scope=col>source</th><th scope=col>interaction</th><th scope=col>target</th><th scope=col>n_resources</th><th scope=col>n_references</th></tr>\n",
       "\t<tr><th scope=col>&lt;chr&gt;</th><th scope=col>&lt;chr&gt;</th><th scope=col>&lt;chr&gt;</th><th scope=col>&lt;int&gt;</th><th scope=col>&lt;int&gt;</th></tr>\n",
       "</thead>\n",
       "<tbody>\n",
       "\t<tr><td><span style=white-space:pre-wrap>APC (P25054)   </span></td><td>==(+/-)==&gt;</td><td>CTNNB1 (P35222)</td><td>12</td><td>39</td></tr>\n",
       "\t<tr><td>CTNNB1 (P35222)</td><td>==(+/-)==&gt;</td><td>CREBBP (Q92793)</td><td> 6</td><td> 6</td></tr>\n",
       "\t<tr><td>CREBBP (Q92793)</td><td>==( + )==&gt;</td><td><span style=white-space:pre-wrap>JUN (P05412)   </span></td><td> 6</td><td>10</td></tr>\n",
       "\t<tr><td><span style=white-space:pre-wrap>JUN (P05412)   </span></td><td>==( + )==&gt;</td><td><span style=white-space:pre-wrap>SPI1 (P17947)  </span></td><td> 3</td><td> 3</td></tr>\n",
       "\t<tr><td><span style=white-space:pre-wrap>SPI1 (P17947)  </span></td><td>==( ? )==&gt;</td><td><span style=white-space:pre-wrap>CTSG (P08311)  </span></td><td> 1</td><td> 1</td></tr>\n",
       "\t<tr><td><span style=white-space:pre-wrap>CTSG (P08311)  </span></td><td>==( + )==&gt;</td><td><span style=white-space:pre-wrap>C3 (P01024)    </span></td><td> 4</td><td> 2</td></tr>\n",
       "</tbody>\n",
       "</table>\n"
      ],
      "text/latex": [
       "A data.frame: 6 × 5\n",
       "\\begin{tabular}{lllll}\n",
       " source & interaction & target & n\\_resources & n\\_references\\\\\n",
       " <chr> & <chr> & <chr> & <int> & <int>\\\\\n",
       "\\hline\n",
       "\t APC (P25054)    & ==(+/-)==> & CTNNB1 (P35222) & 12 & 39\\\\\n",
       "\t CTNNB1 (P35222) & ==(+/-)==> & CREBBP (Q92793) &  6 &  6\\\\\n",
       "\t CREBBP (Q92793) & ==( + )==> & JUN (P05412)    &  6 & 10\\\\\n",
       "\t JUN (P05412)    & ==( + )==> & SPI1 (P17947)   &  3 &  3\\\\\n",
       "\t SPI1 (P17947)   & ==( ? )==> & CTSG (P08311)   &  1 &  1\\\\\n",
       "\t CTSG (P08311)   & ==( + )==> & C3 (P01024)     &  4 &  2\\\\\n",
       "\\end{tabular}\n"
      ],
      "text/markdown": [
       "\n",
       "A data.frame: 6 × 5\n",
       "\n",
       "| source &lt;chr&gt; | interaction &lt;chr&gt; | target &lt;chr&gt; | n_resources &lt;int&gt; | n_references &lt;int&gt; |\n",
       "|---|---|---|---|---|\n",
       "| APC (P25054)    | ==(+/-)==&gt; | CTNNB1 (P35222) | 12 | 39 |\n",
       "| CTNNB1 (P35222) | ==(+/-)==&gt; | CREBBP (Q92793) |  6 |  6 |\n",
       "| CREBBP (Q92793) | ==( + )==&gt; | JUN (P05412)    |  6 | 10 |\n",
       "| JUN (P05412)    | ==( + )==&gt; | SPI1 (P17947)   |  3 |  3 |\n",
       "| SPI1 (P17947)   | ==( ? )==&gt; | CTSG (P08311)   |  1 |  1 |\n",
       "| CTSG (P08311)   | ==( + )==&gt; | C3 (P01024)     |  4 |  2 |\n",
       "\n"
      ],
      "text/plain": [
       "  source          interaction target          n_resources n_references\n",
       "1 APC (P25054)    ==(+/-)==>  CTNNB1 (P35222) 12          39          \n",
       "2 CTNNB1 (P35222) ==(+/-)==>  CREBBP (Q92793)  6           6          \n",
       "3 CREBBP (Q92793) ==( + )==>  JUN (P05412)     6          10          \n",
       "4 JUN (P05412)    ==( + )==>  SPI1 (P17947)    3           3          \n",
       "5 SPI1 (P17947)   ==( ? )==>  CTSG (P08311)    1           1          \n",
       "6 CTSG (P08311)   ==( + )==>  C3 (P01024)      4           2          "
      ]
     },
     "metadata": {},
     "output_type": "display_data"
    }
   ],
   "source": [
    "interactions <- import_omnipath_interactions()\n",
    "OPI_g = interaction_graph(interactions = interactions)\n",
    "print_path_es(shortest_paths(OPI_g,from = 'APC',to = 'C3',output = 'epath')$epath[[1]],OPI_g)"
   ]
  },
  {
   "cell_type": "code",
   "execution_count": null,
   "id": "f35d68da-337c-4244-b9d1-1a99dd98d53f",
   "metadata": {},
   "outputs": [],
   "source": []
  }
 ],
 "metadata": {
  "kernelspec": {
   "display_name": "R",
   "language": "R",
   "name": "ir"
  },
  "language_info": {
   "codemirror_mode": "r",
   "file_extension": ".r",
   "mimetype": "text/x-r-source",
   "name": "R",
   "pygments_lexer": "r",
   "version": "4.3.3"
  }
 },
 "nbformat": 4,
 "nbformat_minor": 5
}
