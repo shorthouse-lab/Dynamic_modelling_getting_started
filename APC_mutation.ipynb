{
 "cells": [
  {
   "cell_type": "markdown",
   "id": "3a7e8556",
   "metadata": {},
   "source": [
    "# Quickstart guide to mapping and modelling disease\n",
    "\n",
    "This practical is written to give you a rapid overview ofhow to get started building and analysing models. The learning aim here is not to teach everything, but to present one workflow that illustrates how you can move from an experimental dataset, to gene network maps, to models. Everything in this guide is expanded on in more depth later, including the practical and theoretical aspects, but you should be able to adapt this as a starting point for your own data.\n",
    "\n",
    "## How mutation of APC alters cancer signalling \n",
    "\n",
    "\"Differential RNA-seq analysis comparing APC-defective and APC-restored SW480 colorectal cancer cells\"\n",
    "https://doi.org/10.1016/j.gdata.2016.02.001\n",
    "\n",
    "Adenomatous polyposis coli (APC) tumour suppressor gene is mutated in 80% of colorectal cancers (CRC). Its mutation is a well studied step in the Vogelstein model of tumour development. In this dataset APC has been restored in a CRC cell line, and gene expression changes measured with RNASeq. This dataset allows us to explore the role of APC in the control of the cancer phenotype.\n",
    "\n",
    "In this tutorial we \n",
    "\n",
    "* Process the raw data\n",
    "* Perform differential expression analysis to identify genes activated and inhibited by the reintroduction of APC\n",
    "* Use GSEA to identify pathways changed by the presence or absence of APC (to be confirmed)\n",
    "* Develop maps of signalling\n",
    "* Convert these maps into models"
   ]
  },
  {
   "cell_type": "code",
   "execution_count": 26,
   "id": "d6752408",
   "metadata": {},
   "outputs": [],
   "source": [
    "import pandas as pd"
   ]
  },
  {
   "cell_type": "markdown",
   "id": "e9b9ea0d",
   "metadata": {},
   "source": [
    "# Loading and processing the input data"
   ]
  },
  {
   "cell_type": "code",
   "execution_count": 27,
   "id": "82c5504c",
   "metadata": {},
   "outputs": [],
   "source": [
    "## rpkm_data\n",
    "rpkm_data = pd.read_csv(\"./GSE76307_gene_level.rpkm.txt\", sep = \"\\t\", index_col = \"Description\")\n",
    "## raw counts data\n",
    "raw_counts = pd.read_csv(\"./GSE76307_transcript_counts.table.txt\", sep = \"\\t\", index_col = \"Unnamed: 0\")"
   ]
  },
  {
   "cell_type": "markdown",
   "id": "222725fc",
   "metadata": {},
   "source": [
    "### Curating the raw counts data"
   ]
  },
  {
   "cell_type": "code",
   "execution_count": 28,
   "id": "dd0787ab",
   "metadata": {},
   "outputs": [
    {
     "data": {
      "text/html": [
       "<div>\n",
       "<style scoped>\n",
       "    .dataframe tbody tr th:only-of-type {\n",
       "        vertical-align: middle;\n",
       "    }\n",
       "\n",
       "    .dataframe tbody tr th {\n",
       "        vertical-align: top;\n",
       "    }\n",
       "\n",
       "    .dataframe thead th {\n",
       "        text-align: right;\n",
       "    }\n",
       "</style>\n",
       "<table border=\"1\" class=\"dataframe\">\n",
       "  <thead>\n",
       "    <tr style=\"text-align: right;\">\n",
       "      <th></th>\n",
       "      <th>sw480_APC_1</th>\n",
       "      <th>sw480_APC_2</th>\n",
       "      <th>sw480_APC_3</th>\n",
       "      <th>sw480_CONTROL_1</th>\n",
       "      <th>sw480_CONTROL_2</th>\n",
       "      <th>sw480_CONTROL_3</th>\n",
       "      <th>sw480-1</th>\n",
       "      <th>sw480-2</th>\n",
       "      <th>sw480-3</th>\n",
       "      <th>cds_length</th>\n",
       "      <th>gene_name</th>\n",
       "    </tr>\n",
       "  </thead>\n",
       "  <tbody>\n",
       "    <tr>\n",
       "      <th>NM_000014</th>\n",
       "      <td>1</td>\n",
       "      <td>1</td>\n",
       "      <td>3</td>\n",
       "      <td>1</td>\n",
       "      <td>2</td>\n",
       "      <td>2</td>\n",
       "      <td>3</td>\n",
       "      <td>2</td>\n",
       "      <td>2</td>\n",
       "      <td>4653</td>\n",
       "      <td>A2M</td>\n",
       "    </tr>\n",
       "    <tr>\n",
       "      <th>NM_000015</th>\n",
       "      <td>1</td>\n",
       "      <td>0</td>\n",
       "      <td>0</td>\n",
       "      <td>0</td>\n",
       "      <td>2</td>\n",
       "      <td>1</td>\n",
       "      <td>1</td>\n",
       "      <td>3</td>\n",
       "      <td>1</td>\n",
       "      <td>1317</td>\n",
       "      <td>NAT2</td>\n",
       "    </tr>\n",
       "    <tr>\n",
       "      <th>NM_000016</th>\n",
       "      <td>1038</td>\n",
       "      <td>1126</td>\n",
       "      <td>1098</td>\n",
       "      <td>1285</td>\n",
       "      <td>1037</td>\n",
       "      <td>1306</td>\n",
       "      <td>1022</td>\n",
       "      <td>1059</td>\n",
       "      <td>1057</td>\n",
       "      <td>2603</td>\n",
       "      <td>ACADM</td>\n",
       "    </tr>\n",
       "    <tr>\n",
       "      <th>NM_000017</th>\n",
       "      <td>133</td>\n",
       "      <td>111</td>\n",
       "      <td>103</td>\n",
       "      <td>171</td>\n",
       "      <td>136</td>\n",
       "      <td>174</td>\n",
       "      <td>143</td>\n",
       "      <td>147</td>\n",
       "      <td>125</td>\n",
       "      <td>1917</td>\n",
       "      <td>ACADS</td>\n",
       "    </tr>\n",
       "    <tr>\n",
       "      <th>NM_000018</th>\n",
       "      <td>8699</td>\n",
       "      <td>8232</td>\n",
       "      <td>8364</td>\n",
       "      <td>8888</td>\n",
       "      <td>8426</td>\n",
       "      <td>9188</td>\n",
       "      <td>10982</td>\n",
       "      <td>10844</td>\n",
       "      <td>11450</td>\n",
       "      <td>2292</td>\n",
       "      <td>ACADVL</td>\n",
       "    </tr>\n",
       "  </tbody>\n",
       "</table>\n",
       "</div>"
      ],
      "text/plain": [
       "           sw480_APC_1  sw480_APC_2  sw480_APC_3  sw480_CONTROL_1  \\\n",
       "NM_000014            1            1            3                1   \n",
       "NM_000015            1            0            0                0   \n",
       "NM_000016         1038         1126         1098             1285   \n",
       "NM_000017          133          111          103              171   \n",
       "NM_000018         8699         8232         8364             8888   \n",
       "\n",
       "           sw480_CONTROL_2  sw480_CONTROL_3  sw480-1  sw480-2  sw480-3  \\\n",
       "NM_000014                2                2        3        2        2   \n",
       "NM_000015                2                1        1        3        1   \n",
       "NM_000016             1037             1306     1022     1059     1057   \n",
       "NM_000017              136              174      143      147      125   \n",
       "NM_000018             8426             9188    10982    10844    11450   \n",
       "\n",
       "           cds_length gene_name  \n",
       "NM_000014        4653       A2M  \n",
       "NM_000015        1317      NAT2  \n",
       "NM_000016        2603     ACADM  \n",
       "NM_000017        1917     ACADS  \n",
       "NM_000018        2292    ACADVL  "
      ]
     },
     "execution_count": 28,
     "metadata": {},
     "output_type": "execute_result"
    }
   ],
   "source": [
    "raw_counts.head()"
   ]
  },
  {
   "cell_type": "code",
   "execution_count": 29,
   "id": "954ac4e7",
   "metadata": {},
   "outputs": [],
   "source": [
    "## We summarise the raw counts transcipts to the gene level (just add them all up)\n",
    "\n",
    "raw_counts = raw_counts.groupby(['gene_name']).sum()\n",
    "\n",
    "raw_counts = raw_counts.drop(\"cds_length\", axis =1)"
   ]
  },
  {
   "cell_type": "code",
   "execution_count": 30,
   "id": "f364078c",
   "metadata": {},
   "outputs": [
    {
     "data": {
      "text/html": [
       "<div>\n",
       "<style scoped>\n",
       "    .dataframe tbody tr th:only-of-type {\n",
       "        vertical-align: middle;\n",
       "    }\n",
       "\n",
       "    .dataframe tbody tr th {\n",
       "        vertical-align: top;\n",
       "    }\n",
       "\n",
       "    .dataframe thead th {\n",
       "        text-align: right;\n",
       "    }\n",
       "</style>\n",
       "<table border=\"1\" class=\"dataframe\">\n",
       "  <thead>\n",
       "    <tr style=\"text-align: right;\">\n",
       "      <th></th>\n",
       "      <th>sw480_APC_1</th>\n",
       "      <th>sw480_APC_2</th>\n",
       "      <th>sw480_APC_3</th>\n",
       "      <th>sw480_CONTROL_1</th>\n",
       "      <th>sw480_CONTROL_2</th>\n",
       "      <th>sw480_CONTROL_3</th>\n",
       "      <th>sw480-1</th>\n",
       "      <th>sw480-2</th>\n",
       "      <th>sw480-3</th>\n",
       "    </tr>\n",
       "    <tr>\n",
       "      <th>gene_name</th>\n",
       "      <th></th>\n",
       "      <th></th>\n",
       "      <th></th>\n",
       "      <th></th>\n",
       "      <th></th>\n",
       "      <th></th>\n",
       "      <th></th>\n",
       "      <th></th>\n",
       "      <th></th>\n",
       "    </tr>\n",
       "  </thead>\n",
       "  <tbody>\n",
       "    <tr>\n",
       "      <th>A1BG</th>\n",
       "      <td>3</td>\n",
       "      <td>0</td>\n",
       "      <td>2</td>\n",
       "      <td>0</td>\n",
       "      <td>0</td>\n",
       "      <td>2</td>\n",
       "      <td>0</td>\n",
       "      <td>1</td>\n",
       "      <td>3</td>\n",
       "    </tr>\n",
       "    <tr>\n",
       "      <th>A1BG-AS1</th>\n",
       "      <td>10</td>\n",
       "      <td>4</td>\n",
       "      <td>3</td>\n",
       "      <td>6</td>\n",
       "      <td>4</td>\n",
       "      <td>10</td>\n",
       "      <td>6</td>\n",
       "      <td>13</td>\n",
       "      <td>6</td>\n",
       "    </tr>\n",
       "    <tr>\n",
       "      <th>A1CF</th>\n",
       "      <td>6</td>\n",
       "      <td>0</td>\n",
       "      <td>6</td>\n",
       "      <td>0</td>\n",
       "      <td>0</td>\n",
       "      <td>6</td>\n",
       "      <td>6</td>\n",
       "      <td>18</td>\n",
       "      <td>6</td>\n",
       "    </tr>\n",
       "    <tr>\n",
       "      <th>A2M</th>\n",
       "      <td>1</td>\n",
       "      <td>1</td>\n",
       "      <td>3</td>\n",
       "      <td>1</td>\n",
       "      <td>2</td>\n",
       "      <td>2</td>\n",
       "      <td>3</td>\n",
       "      <td>2</td>\n",
       "      <td>2</td>\n",
       "    </tr>\n",
       "    <tr>\n",
       "      <th>A2M-AS1</th>\n",
       "      <td>3</td>\n",
       "      <td>6</td>\n",
       "      <td>3</td>\n",
       "      <td>4</td>\n",
       "      <td>3</td>\n",
       "      <td>3</td>\n",
       "      <td>6</td>\n",
       "      <td>11</td>\n",
       "      <td>16</td>\n",
       "    </tr>\n",
       "  </tbody>\n",
       "</table>\n",
       "</div>"
      ],
      "text/plain": [
       "           sw480_APC_1  sw480_APC_2  sw480_APC_3  sw480_CONTROL_1  \\\n",
       "gene_name                                                           \n",
       "A1BG                 3            0            2                0   \n",
       "A1BG-AS1            10            4            3                6   \n",
       "A1CF                 6            0            6                0   \n",
       "A2M                  1            1            3                1   \n",
       "A2M-AS1              3            6            3                4   \n",
       "\n",
       "           sw480_CONTROL_2  sw480_CONTROL_3  sw480-1  sw480-2  sw480-3  \n",
       "gene_name                                                               \n",
       "A1BG                     0                2        0        1        3  \n",
       "A1BG-AS1                 4               10        6       13        6  \n",
       "A1CF                     0                6        6       18        6  \n",
       "A2M                      2                2        3        2        2  \n",
       "A2M-AS1                  3                3        6       11       16  "
      ]
     },
     "execution_count": 30,
     "metadata": {},
     "output_type": "execute_result"
    }
   ],
   "source": [
    "raw_counts.head()"
   ]
  },
  {
   "cell_type": "markdown",
   "id": "b81aa706",
   "metadata": {},
   "source": [
    "### Curating the RPKM -> TPM data"
   ]
  },
  {
   "cell_type": "code",
   "execution_count": 31,
   "id": "bfea27f8",
   "metadata": {},
   "outputs": [
    {
     "data": {
      "text/html": [
       "<div>\n",
       "<style scoped>\n",
       "    .dataframe tbody tr th:only-of-type {\n",
       "        vertical-align: middle;\n",
       "    }\n",
       "\n",
       "    .dataframe tbody tr th {\n",
       "        vertical-align: top;\n",
       "    }\n",
       "\n",
       "    .dataframe thead th {\n",
       "        text-align: right;\n",
       "    }\n",
       "</style>\n",
       "<table border=\"1\" class=\"dataframe\">\n",
       "  <thead>\n",
       "    <tr style=\"text-align: right;\">\n",
       "      <th></th>\n",
       "      <th>Name</th>\n",
       "      <th>sw480.1</th>\n",
       "      <th>sw480.2</th>\n",
       "      <th>sw480.3</th>\n",
       "      <th>sw480_APC_1</th>\n",
       "      <th>sw480_APC_2</th>\n",
       "      <th>sw480_APC_3</th>\n",
       "      <th>sw480_CONTROL_1</th>\n",
       "      <th>sw480_CONTROL_2</th>\n",
       "      <th>sw480_CONTROL_3</th>\n",
       "    </tr>\n",
       "    <tr>\n",
       "      <th>Description</th>\n",
       "      <th></th>\n",
       "      <th></th>\n",
       "      <th></th>\n",
       "      <th></th>\n",
       "      <th></th>\n",
       "      <th></th>\n",
       "      <th></th>\n",
       "      <th></th>\n",
       "      <th></th>\n",
       "      <th></th>\n",
       "    </tr>\n",
       "  </thead>\n",
       "  <tbody>\n",
       "    <tr>\n",
       "      <th>DDX11L1</th>\n",
       "      <td>NR_046018</td>\n",
       "      <td>0.029243</td>\n",
       "      <td>0.000000</td>\n",
       "      <td>0.028825</td>\n",
       "      <td>0.000000</td>\n",
       "      <td>0.000000</td>\n",
       "      <td>0.000000</td>\n",
       "      <td>0.028771</td>\n",
       "      <td>0.032629</td>\n",
       "      <td>0.000000</td>\n",
       "    </tr>\n",
       "    <tr>\n",
       "      <th>WASH7P</th>\n",
       "      <td>NR_024540</td>\n",
       "      <td>10.022390</td>\n",
       "      <td>9.784377</td>\n",
       "      <td>10.255849</td>\n",
       "      <td>8.056397</td>\n",
       "      <td>7.294954</td>\n",
       "      <td>7.735621</td>\n",
       "      <td>7.657351</td>\n",
       "      <td>9.202215</td>\n",
       "      <td>8.199277</td>\n",
       "    </tr>\n",
       "    <tr>\n",
       "      <th>LOC729737</th>\n",
       "      <td>NR_039983</td>\n",
       "      <td>0.308885</td>\n",
       "      <td>0.281063</td>\n",
       "      <td>0.260970</td>\n",
       "      <td>0.572778</td>\n",
       "      <td>0.510475</td>\n",
       "      <td>0.507493</td>\n",
       "      <td>0.269165</td>\n",
       "      <td>0.167401</td>\n",
       "      <td>0.259120</td>\n",
       "    </tr>\n",
       "    <tr>\n",
       "      <th>LOC100132062</th>\n",
       "      <td>NR_028325</td>\n",
       "      <td>0.077384</td>\n",
       "      <td>0.022004</td>\n",
       "      <td>0.032690</td>\n",
       "      <td>0.043484</td>\n",
       "      <td>0.034878</td>\n",
       "      <td>0.011772</td>\n",
       "      <td>0.032629</td>\n",
       "      <td>0.037004</td>\n",
       "      <td>0.020941</td>\n",
       "    </tr>\n",
       "    <tr>\n",
       "      <th>LOC100288069</th>\n",
       "      <td>NR_033908</td>\n",
       "      <td>4.686485</td>\n",
       "      <td>5.611010</td>\n",
       "      <td>4.758363</td>\n",
       "      <td>3.776909</td>\n",
       "      <td>3.001679</td>\n",
       "      <td>3.752356</td>\n",
       "      <td>3.882773</td>\n",
       "      <td>3.853025</td>\n",
       "      <td>3.037023</td>\n",
       "    </tr>\n",
       "  </tbody>\n",
       "</table>\n",
       "</div>"
      ],
      "text/plain": [
       "                   Name    sw480.1   sw480.2    sw480.3  sw480_APC_1  \\\n",
       "Description                                                            \n",
       "DDX11L1       NR_046018   0.029243  0.000000   0.028825     0.000000   \n",
       "WASH7P        NR_024540  10.022390  9.784377  10.255849     8.056397   \n",
       "LOC729737     NR_039983   0.308885  0.281063   0.260970     0.572778   \n",
       "LOC100132062  NR_028325   0.077384  0.022004   0.032690     0.043484   \n",
       "LOC100288069  NR_033908   4.686485  5.611010   4.758363     3.776909   \n",
       "\n",
       "              sw480_APC_2  sw480_APC_3  sw480_CONTROL_1  sw480_CONTROL_2  \\\n",
       "Description                                                                \n",
       "DDX11L1          0.000000     0.000000         0.028771         0.032629   \n",
       "WASH7P           7.294954     7.735621         7.657351         9.202215   \n",
       "LOC729737        0.510475     0.507493         0.269165         0.167401   \n",
       "LOC100132062     0.034878     0.011772         0.032629         0.037004   \n",
       "LOC100288069     3.001679     3.752356         3.882773         3.853025   \n",
       "\n",
       "              sw480_CONTROL_3  \n",
       "Description                    \n",
       "DDX11L1              0.000000  \n",
       "WASH7P               8.199277  \n",
       "LOC729737            0.259120  \n",
       "LOC100132062         0.020941  \n",
       "LOC100288069         3.037023  "
      ]
     },
     "execution_count": 31,
     "metadata": {},
     "output_type": "execute_result"
    }
   ],
   "source": [
    "rpkm_data.head()"
   ]
  },
  {
   "cell_type": "code",
   "execution_count": 32,
   "id": "f6abd0a9",
   "metadata": {},
   "outputs": [],
   "source": [
    "## remove the name column\n",
    "rpkm_data = rpkm_data.drop(\"Name\", axis =1)"
   ]
  },
  {
   "cell_type": "markdown",
   "id": "8f006510",
   "metadata": {},
   "source": [
    "##### Convert rpkm to TPM"
   ]
  },
  {
   "cell_type": "code",
   "execution_count": 33,
   "id": "aaedf548",
   "metadata": {},
   "outputs": [
    {
     "data": {
      "text/html": [
       "<div>\n",
       "<style scoped>\n",
       "    .dataframe tbody tr th:only-of-type {\n",
       "        vertical-align: middle;\n",
       "    }\n",
       "\n",
       "    .dataframe tbody tr th {\n",
       "        vertical-align: top;\n",
       "    }\n",
       "\n",
       "    .dataframe thead th {\n",
       "        text-align: right;\n",
       "    }\n",
       "</style>\n",
       "<table border=\"1\" class=\"dataframe\">\n",
       "  <thead>\n",
       "    <tr style=\"text-align: right;\">\n",
       "      <th></th>\n",
       "      <th>sw480.1</th>\n",
       "      <th>sw480.2</th>\n",
       "      <th>sw480.3</th>\n",
       "      <th>sw480_APC_1</th>\n",
       "      <th>sw480_APC_2</th>\n",
       "      <th>sw480_APC_3</th>\n",
       "      <th>sw480_CONTROL_1</th>\n",
       "      <th>sw480_CONTROL_2</th>\n",
       "      <th>sw480_CONTROL_3</th>\n",
       "    </tr>\n",
       "    <tr>\n",
       "      <th>Description</th>\n",
       "      <th></th>\n",
       "      <th></th>\n",
       "      <th></th>\n",
       "      <th></th>\n",
       "      <th></th>\n",
       "      <th></th>\n",
       "      <th></th>\n",
       "      <th></th>\n",
       "      <th></th>\n",
       "    </tr>\n",
       "  </thead>\n",
       "  <tbody>\n",
       "    <tr>\n",
       "      <th>DDX11L1</th>\n",
       "      <td>0.029243</td>\n",
       "      <td>0.000000</td>\n",
       "      <td>0.028825</td>\n",
       "      <td>0.000000</td>\n",
       "      <td>0.000000</td>\n",
       "      <td>0.000000</td>\n",
       "      <td>0.028771</td>\n",
       "      <td>0.032629</td>\n",
       "      <td>0.000000</td>\n",
       "    </tr>\n",
       "    <tr>\n",
       "      <th>WASH7P</th>\n",
       "      <td>10.022390</td>\n",
       "      <td>9.784377</td>\n",
       "      <td>10.255849</td>\n",
       "      <td>8.056397</td>\n",
       "      <td>7.294954</td>\n",
       "      <td>7.735621</td>\n",
       "      <td>7.657351</td>\n",
       "      <td>9.202215</td>\n",
       "      <td>8.199277</td>\n",
       "    </tr>\n",
       "    <tr>\n",
       "      <th>LOC729737</th>\n",
       "      <td>0.308885</td>\n",
       "      <td>0.281063</td>\n",
       "      <td>0.260970</td>\n",
       "      <td>0.572778</td>\n",
       "      <td>0.510475</td>\n",
       "      <td>0.507493</td>\n",
       "      <td>0.269165</td>\n",
       "      <td>0.167401</td>\n",
       "      <td>0.259120</td>\n",
       "    </tr>\n",
       "    <tr>\n",
       "      <th>LOC100132062</th>\n",
       "      <td>0.077384</td>\n",
       "      <td>0.022004</td>\n",
       "      <td>0.032690</td>\n",
       "      <td>0.043484</td>\n",
       "      <td>0.034878</td>\n",
       "      <td>0.011772</td>\n",
       "      <td>0.032629</td>\n",
       "      <td>0.037004</td>\n",
       "      <td>0.020941</td>\n",
       "    </tr>\n",
       "    <tr>\n",
       "      <th>LOC100288069</th>\n",
       "      <td>4.686485</td>\n",
       "      <td>5.611010</td>\n",
       "      <td>4.758363</td>\n",
       "      <td>3.776909</td>\n",
       "      <td>3.001679</td>\n",
       "      <td>3.752356</td>\n",
       "      <td>3.882773</td>\n",
       "      <td>3.853025</td>\n",
       "      <td>3.037023</td>\n",
       "    </tr>\n",
       "  </tbody>\n",
       "</table>\n",
       "</div>"
      ],
      "text/plain": [
       "                sw480.1   sw480.2    sw480.3  sw480_APC_1  sw480_APC_2  \\\n",
       "Description                                                              \n",
       "DDX11L1        0.029243  0.000000   0.028825     0.000000     0.000000   \n",
       "WASH7P        10.022390  9.784377  10.255849     8.056397     7.294954   \n",
       "LOC729737      0.308885  0.281063   0.260970     0.572778     0.510475   \n",
       "LOC100132062   0.077384  0.022004   0.032690     0.043484     0.034878   \n",
       "LOC100288069   4.686485  5.611010   4.758363     3.776909     3.001679   \n",
       "\n",
       "              sw480_APC_3  sw480_CONTROL_1  sw480_CONTROL_2  sw480_CONTROL_3  \n",
       "Description                                                                   \n",
       "DDX11L1          0.000000         0.028771         0.032629         0.000000  \n",
       "WASH7P           7.735621         7.657351         9.202215         8.199277  \n",
       "LOC729737        0.507493         0.269165         0.167401         0.259120  \n",
       "LOC100132062     0.011772         0.032629         0.037004         0.020941  \n",
       "LOC100288069     3.752356         3.882773         3.853025         3.037023  "
      ]
     },
     "execution_count": 33,
     "metadata": {},
     "output_type": "execute_result"
    }
   ],
   "source": [
    "rpkm_data.head()"
   ]
  },
  {
   "cell_type": "code",
   "execution_count": 34,
   "id": "cf8aec48",
   "metadata": {},
   "outputs": [],
   "source": [
    "## TPM = (rpkm/total reads in sample) * 1 million\n",
    "TPM_data = pd.DataFrame()\n",
    "\n",
    "for col in rpkm_data.columns:\n",
    "    totalreads = rpkm_data[col].sum()\n",
    "    \n",
    "    TPM_data[col] = rpkm_data[col].apply(lambda row: (row/totalreads) * 10**6)"
   ]
  },
  {
   "cell_type": "code",
   "execution_count": 35,
   "id": "77aca649",
   "metadata": {},
   "outputs": [
    {
     "data": {
      "text/html": [
       "<div>\n",
       "<style scoped>\n",
       "    .dataframe tbody tr th:only-of-type {\n",
       "        vertical-align: middle;\n",
       "    }\n",
       "\n",
       "    .dataframe tbody tr th {\n",
       "        vertical-align: top;\n",
       "    }\n",
       "\n",
       "    .dataframe thead th {\n",
       "        text-align: right;\n",
       "    }\n",
       "</style>\n",
       "<table border=\"1\" class=\"dataframe\">\n",
       "  <thead>\n",
       "    <tr style=\"text-align: right;\">\n",
       "      <th></th>\n",
       "      <th>sw480.1</th>\n",
       "      <th>sw480.2</th>\n",
       "      <th>sw480.3</th>\n",
       "      <th>sw480_APC_1</th>\n",
       "      <th>sw480_APC_2</th>\n",
       "      <th>sw480_APC_3</th>\n",
       "      <th>sw480_CONTROL_1</th>\n",
       "      <th>sw480_CONTROL_2</th>\n",
       "      <th>sw480_CONTROL_3</th>\n",
       "    </tr>\n",
       "    <tr>\n",
       "      <th>Description</th>\n",
       "      <th></th>\n",
       "      <th></th>\n",
       "      <th></th>\n",
       "      <th></th>\n",
       "      <th></th>\n",
       "      <th></th>\n",
       "      <th></th>\n",
       "      <th></th>\n",
       "      <th></th>\n",
       "    </tr>\n",
       "  </thead>\n",
       "  <tbody>\n",
       "    <tr>\n",
       "      <th>DDX11L1</th>\n",
       "      <td>0.073737</td>\n",
       "      <td>0.000000</td>\n",
       "      <td>0.071810</td>\n",
       "      <td>0.000000</td>\n",
       "      <td>0.000000</td>\n",
       "      <td>0.000000</td>\n",
       "      <td>0.070465</td>\n",
       "      <td>0.079016</td>\n",
       "      <td>0.000000</td>\n",
       "    </tr>\n",
       "    <tr>\n",
       "      <th>WASH7P</th>\n",
       "      <td>25.271794</td>\n",
       "      <td>24.974742</td>\n",
       "      <td>25.549966</td>\n",
       "      <td>19.396767</td>\n",
       "      <td>17.000899</td>\n",
       "      <td>18.372652</td>\n",
       "      <td>18.754201</td>\n",
       "      <td>22.284504</td>\n",
       "      <td>19.992728</td>\n",
       "    </tr>\n",
       "    <tr>\n",
       "      <th>LOC729737</th>\n",
       "      <td>0.778863</td>\n",
       "      <td>0.717417</td>\n",
       "      <td>0.650144</td>\n",
       "      <td>1.379034</td>\n",
       "      <td>1.189663</td>\n",
       "      <td>1.205333</td>\n",
       "      <td>0.659232</td>\n",
       "      <td>0.405385</td>\n",
       "      <td>0.631826</td>\n",
       "    </tr>\n",
       "    <tr>\n",
       "      <th>LOC100132062</th>\n",
       "      <td>0.195126</td>\n",
       "      <td>0.056166</td>\n",
       "      <td>0.081439</td>\n",
       "      <td>0.104692</td>\n",
       "      <td>0.081284</td>\n",
       "      <td>0.027960</td>\n",
       "      <td>0.079914</td>\n",
       "      <td>0.089611</td>\n",
       "      <td>0.051061</td>\n",
       "    </tr>\n",
       "    <tr>\n",
       "      <th>LOC100288069</th>\n",
       "      <td>11.817130</td>\n",
       "      <td>14.322172</td>\n",
       "      <td>11.854310</td>\n",
       "      <td>9.093372</td>\n",
       "      <td>6.995417</td>\n",
       "      <td>8.912112</td>\n",
       "      <td>9.509596</td>\n",
       "      <td>9.330662</td>\n",
       "      <td>7.405333</td>\n",
       "    </tr>\n",
       "  </tbody>\n",
       "</table>\n",
       "</div>"
      ],
      "text/plain": [
       "                sw480.1    sw480.2    sw480.3  sw480_APC_1  sw480_APC_2  \\\n",
       "Description                                                               \n",
       "DDX11L1        0.073737   0.000000   0.071810     0.000000     0.000000   \n",
       "WASH7P        25.271794  24.974742  25.549966    19.396767    17.000899   \n",
       "LOC729737      0.778863   0.717417   0.650144     1.379034     1.189663   \n",
       "LOC100132062   0.195126   0.056166   0.081439     0.104692     0.081284   \n",
       "LOC100288069  11.817130  14.322172  11.854310     9.093372     6.995417   \n",
       "\n",
       "              sw480_APC_3  sw480_CONTROL_1  sw480_CONTROL_2  sw480_CONTROL_3  \n",
       "Description                                                                   \n",
       "DDX11L1          0.000000         0.070465         0.079016         0.000000  \n",
       "WASH7P          18.372652        18.754201        22.284504        19.992728  \n",
       "LOC729737        1.205333         0.659232         0.405385         0.631826  \n",
       "LOC100132062     0.027960         0.079914         0.089611         0.051061  \n",
       "LOC100288069     8.912112         9.509596         9.330662         7.405333  "
      ]
     },
     "execution_count": 35,
     "metadata": {},
     "output_type": "execute_result"
    }
   ],
   "source": [
    "TPM_data.head()"
   ]
  },
  {
   "cell_type": "code",
   "execution_count": 36,
   "id": "3ac993f5",
   "metadata": {},
   "outputs": [],
   "source": [
    "## We now have:\n",
    "##  - raw counts data (use for input to DESeq and other tools requiring the raw counts)\n",
    "##  - TPM data (use for visualisation, GSEA, and other similar tools required normalised data)"
   ]
  },
  {
   "cell_type": "markdown",
   "id": "818883e9",
   "metadata": {},
   "source": [
    "## Perform PCA to check samples are distinct"
   ]
  },
  {
   "cell_type": "code",
   "execution_count": 37,
   "id": "14524fc1",
   "metadata": {},
   "outputs": [],
   "source": [
    "# Scale the data\n",
    "from sklearn.preprocessing import StandardScaler\n",
    "scaled_TPM = StandardScaler().fit_transform(TPM_data.T)"
   ]
  },
  {
   "cell_type": "code",
   "execution_count": 38,
   "id": "9ca9ad49",
   "metadata": {},
   "outputs": [],
   "source": [
    "## Perform PCA\n",
    "from sklearn.decomposition import PCA\n",
    "pca = PCA(n_components=2)\n",
    "principal_components = pca.fit_transform(scaled_TPM)"
   ]
  },
  {
   "cell_type": "code",
   "execution_count": 39,
   "id": "2913ab71",
   "metadata": {},
   "outputs": [
    {
     "name": "stdout",
     "output_type": "stream",
     "text": [
      "Explained variation per principal component: [0.46778784 0.21758848]\n"
     ]
    }
   ],
   "source": [
    "## Make a dataframe and calculate the percentage contribution of each PC\n",
    "principal_Df = pd.DataFrame(data = principal_components\n",
    "             , columns = ['PC1', 'PC2'])\n",
    "\n",
    "print('Explained variation per principal component: {}'.format(pca.explained_variance_ratio_))"
   ]
  },
  {
   "cell_type": "code",
   "execution_count": 40,
   "id": "eb66be56",
   "metadata": {},
   "outputs": [
    {
     "data": {
      "image/png": "[encoded data removed]",
      "text/plain": [
       "<Figure size 640x480 with 1 Axes>"
      ]
     },
     "metadata": {},
     "output_type": "display_data"
    }
   ],
   "source": [
    "## Plot the PCs\n",
    "\n",
    "## This can all be made to look a lot nicer and a bit more robust\n",
    "import matplotlib.pyplot as plt\n",
    "\n",
    "plt.scatter(x = principal_Df[\"PC1\"], y = principal_Df[\"PC2\"], c = [\"r\", \"r\", \"r\", \"b\", \"b\", \"b\", \"g\", \"g\", \"g\"])\n",
    "\n",
    "plt.show()"
   ]
  },
  {
   "cell_type": "markdown",
   "id": "580c2f71",
   "metadata": {},
   "source": [
    "# Differential expression using DESeq2 (generally this would be done in R, but as a python implementation is available I am using it)"
   ]
  },
  {
   "cell_type": "markdown",
   "id": "218d97b8",
   "metadata": {},
   "source": [
    "### Set up our data"
   ]
  },
  {
   "cell_type": "code",
   "execution_count": 41,
   "id": "fd4f0c95",
   "metadata": {},
   "outputs": [],
   "source": [
    "## raw counts is fed into deseq2 transposed compared to our usual format\n",
    "counts_df = raw_counts.T\n",
    "\n",
    "## We remove genes with very low counts (<10 counts across our samples)\n",
    "genes_to_keep = counts_df.columns[counts_df.sum(axis=0) >= 10]\n",
    "counts_df = counts_df[genes_to_keep]"
   ]
  },
  {
   "cell_type": "code",
   "execution_count": 42,
   "id": "eb8167ff",
   "metadata": {},
   "outputs": [
    {
     "data": {
      "text/html": [
       "<div>\n",
       "<style scoped>\n",
       "    .dataframe tbody tr th:only-of-type {\n",
       "        vertical-align: middle;\n",
       "    }\n",
       "\n",
       "    .dataframe tbody tr th {\n",
       "        vertical-align: top;\n",
       "    }\n",
       "\n",
       "    .dataframe thead th {\n",
       "        text-align: right;\n",
       "    }\n",
       "</style>\n",
       "<table border=\"1\" class=\"dataframe\">\n",
       "  <thead>\n",
       "    <tr style=\"text-align: right;\">\n",
       "      <th>gene_name</th>\n",
       "      <th>A1BG</th>\n",
       "      <th>A1BG-AS1</th>\n",
       "      <th>A1CF</th>\n",
       "      <th>A2M</th>\n",
       "      <th>A2M-AS1</th>\n",
       "      <th>A4GALT</th>\n",
       "      <th>A4GNT</th>\n",
       "      <th>AAAS</th>\n",
       "      <th>AACS</th>\n",
       "      <th>AACSP1</th>\n",
       "      <th>...</th>\n",
       "      <th>ZW10</th>\n",
       "      <th>ZWILCH</th>\n",
       "      <th>ZWINT</th>\n",
       "      <th>ZXDA</th>\n",
       "      <th>ZXDB</th>\n",
       "      <th>ZXDC</th>\n",
       "      <th>ZYG11B</th>\n",
       "      <th>ZYX</th>\n",
       "      <th>ZZEF1</th>\n",
       "      <th>ZZZ3</th>\n",
       "    </tr>\n",
       "  </thead>\n",
       "  <tbody>\n",
       "    <tr>\n",
       "      <th>sw480_APC_1</th>\n",
       "      <td>3</td>\n",
       "      <td>10</td>\n",
       "      <td>6</td>\n",
       "      <td>1</td>\n",
       "      <td>3</td>\n",
       "      <td>56</td>\n",
       "      <td>0</td>\n",
       "      <td>1769</td>\n",
       "      <td>1004</td>\n",
       "      <td>1</td>\n",
       "      <td>...</td>\n",
       "      <td>1181</td>\n",
       "      <td>3173</td>\n",
       "      <td>5611</td>\n",
       "      <td>231</td>\n",
       "      <td>576</td>\n",
       "      <td>1185</td>\n",
       "      <td>504</td>\n",
       "      <td>5068</td>\n",
       "      <td>1362</td>\n",
       "      <td>721</td>\n",
       "    </tr>\n",
       "    <tr>\n",
       "      <th>sw480_APC_2</th>\n",
       "      <td>0</td>\n",
       "      <td>4</td>\n",
       "      <td>0</td>\n",
       "      <td>1</td>\n",
       "      <td>6</td>\n",
       "      <td>49</td>\n",
       "      <td>0</td>\n",
       "      <td>1613</td>\n",
       "      <td>858</td>\n",
       "      <td>0</td>\n",
       "      <td>...</td>\n",
       "      <td>1152</td>\n",
       "      <td>3173</td>\n",
       "      <td>5673</td>\n",
       "      <td>232</td>\n",
       "      <td>567</td>\n",
       "      <td>1056</td>\n",
       "      <td>470</td>\n",
       "      <td>4459</td>\n",
       "      <td>1247</td>\n",
       "      <td>700</td>\n",
       "    </tr>\n",
       "    <tr>\n",
       "      <th>sw480_APC_3</th>\n",
       "      <td>2</td>\n",
       "      <td>3</td>\n",
       "      <td>6</td>\n",
       "      <td>3</td>\n",
       "      <td>3</td>\n",
       "      <td>37</td>\n",
       "      <td>0</td>\n",
       "      <td>1661</td>\n",
       "      <td>852</td>\n",
       "      <td>2</td>\n",
       "      <td>...</td>\n",
       "      <td>1140</td>\n",
       "      <td>3035</td>\n",
       "      <td>5720</td>\n",
       "      <td>187</td>\n",
       "      <td>591</td>\n",
       "      <td>1082</td>\n",
       "      <td>449</td>\n",
       "      <td>4781</td>\n",
       "      <td>1190</td>\n",
       "      <td>663</td>\n",
       "    </tr>\n",
       "    <tr>\n",
       "      <th>sw480_CONTROL_1</th>\n",
       "      <td>0</td>\n",
       "      <td>6</td>\n",
       "      <td>0</td>\n",
       "      <td>1</td>\n",
       "      <td>4</td>\n",
       "      <td>101</td>\n",
       "      <td>1</td>\n",
       "      <td>3163</td>\n",
       "      <td>732</td>\n",
       "      <td>4</td>\n",
       "      <td>...</td>\n",
       "      <td>1208</td>\n",
       "      <td>2945</td>\n",
       "      <td>6892</td>\n",
       "      <td>84</td>\n",
       "      <td>252</td>\n",
       "      <td>1637</td>\n",
       "      <td>708</td>\n",
       "      <td>7802</td>\n",
       "      <td>1342</td>\n",
       "      <td>870</td>\n",
       "    </tr>\n",
       "    <tr>\n",
       "      <th>sw480_CONTROL_2</th>\n",
       "      <td>0</td>\n",
       "      <td>4</td>\n",
       "      <td>0</td>\n",
       "      <td>2</td>\n",
       "      <td>3</td>\n",
       "      <td>84</td>\n",
       "      <td>1</td>\n",
       "      <td>2814</td>\n",
       "      <td>627</td>\n",
       "      <td>3</td>\n",
       "      <td>...</td>\n",
       "      <td>1090</td>\n",
       "      <td>2600</td>\n",
       "      <td>6026</td>\n",
       "      <td>78</td>\n",
       "      <td>241</td>\n",
       "      <td>1431</td>\n",
       "      <td>576</td>\n",
       "      <td>7876</td>\n",
       "      <td>1111</td>\n",
       "      <td>698</td>\n",
       "    </tr>\n",
       "  </tbody>\n",
       "</table>\n",
       "<p>5 rows × 16561 columns</p>\n",
       "</div>"
      ],
      "text/plain": [
       "gene_name        A1BG  A1BG-AS1  A1CF  A2M  A2M-AS1  A4GALT  A4GNT  AAAS  \\\n",
       "sw480_APC_1         3        10     6    1        3      56      0  1769   \n",
       "sw480_APC_2         0         4     0    1        6      49      0  1613   \n",
       "sw480_APC_3         2         3     6    3        3      37      0  1661   \n",
       "sw480_CONTROL_1     0         6     0    1        4     101      1  3163   \n",
       "sw480_CONTROL_2     0         4     0    2        3      84      1  2814   \n",
       "\n",
       "gene_name        AACS  AACSP1  ...  ZW10  ZWILCH  ZWINT  ZXDA  ZXDB  ZXDC  \\\n",
       "sw480_APC_1      1004       1  ...  1181    3173   5611   231   576  1185   \n",
       "sw480_APC_2       858       0  ...  1152    3173   5673   232   567  1056   \n",
       "sw480_APC_3       852       2  ...  1140    3035   5720   187   591  1082   \n",
       "sw480_CONTROL_1   732       4  ...  1208    2945   6892    84   252  1637   \n",
       "sw480_CONTROL_2   627       3  ...  1090    2600   6026    78   241  1431   \n",
       "\n",
       "gene_name        ZYG11B   ZYX  ZZEF1  ZZZ3  \n",
       "sw480_APC_1         504  5068   1362   721  \n",
       "sw480_APC_2         470  4459   1247   700  \n",
       "sw480_APC_3         449  4781   1190   663  \n",
       "sw480_CONTROL_1     708  7802   1342   870  \n",
       "sw480_CONTROL_2     576  7876   1111   698  \n",
       "\n",
       "[5 rows x 16561 columns]"
      ]
     },
     "execution_count": 42,
     "metadata": {},
     "output_type": "execute_result"
    }
   ],
   "source": [
    "counts_df.head()"
   ]
  },
  {
   "cell_type": "code",
   "execution_count": 43,
   "id": "43c163c2",
   "metadata": {},
   "outputs": [],
   "source": [
    "## We make our metadata matrix - in this case we just have one condition with 3 levels\n",
    "conditions = [\"APC_mut\"] * 3 + [\"Control\"] * 3 + [\"WT\"] * 3\n",
    "\n",
    "metadata = pd.DataFrame(conditions, index= raw_counts.columns, columns=[\"condition\"])"
   ]
  },
  {
   "cell_type": "code",
   "execution_count": 44,
   "id": "d3a0d77a",
   "metadata": {},
   "outputs": [
    {
     "data": {
      "text/html": [
       "<div>\n",
       "<style scoped>\n",
       "    .dataframe tbody tr th:only-of-type {\n",
       "        vertical-align: middle;\n",
       "    }\n",
       "\n",
       "    .dataframe tbody tr th {\n",
       "        vertical-align: top;\n",
       "    }\n",
       "\n",
       "    .dataframe thead th {\n",
       "        text-align: right;\n",
       "    }\n",
       "</style>\n",
       "<table border=\"1\" class=\"dataframe\">\n",
       "  <thead>\n",
       "    <tr style=\"text-align: right;\">\n",
       "      <th></th>\n",
       "      <th>condition</th>\n",
       "    </tr>\n",
       "  </thead>\n",
       "  <tbody>\n",
       "    <tr>\n",
       "      <th>sw480_APC_1</th>\n",
       "      <td>APC_mut</td>\n",
       "    </tr>\n",
       "    <tr>\n",
       "      <th>sw480_APC_2</th>\n",
       "      <td>APC_mut</td>\n",
       "    </tr>\n",
       "    <tr>\n",
       "      <th>sw480_APC_3</th>\n",
       "      <td>APC_mut</td>\n",
       "    </tr>\n",
       "    <tr>\n",
       "      <th>sw480_CONTROL_1</th>\n",
       "      <td>Control</td>\n",
       "    </tr>\n",
       "    <tr>\n",
       "      <th>sw480_CONTROL_2</th>\n",
       "      <td>Control</td>\n",
       "    </tr>\n",
       "  </tbody>\n",
       "</table>\n",
       "</div>"
      ],
      "text/plain": [
       "                condition\n",
       "sw480_APC_1       APC_mut\n",
       "sw480_APC_2       APC_mut\n",
       "sw480_APC_3       APC_mut\n",
       "sw480_CONTROL_1   Control\n",
       "sw480_CONTROL_2   Control"
      ]
     },
     "execution_count": 44,
     "metadata": {},
     "output_type": "execute_result"
    }
   ],
   "source": [
    "metadata.head()"
   ]
  },
  {
   "cell_type": "markdown",
   "id": "3b943a64",
   "metadata": {},
   "source": [
    "## Run deseq2 with Control as the \"base factor\" (will do a comparison of the other two factors against the control)"
   ]
  },
  {
   "cell_type": "code",
   "execution_count": 45,
   "id": "da26223d",
   "metadata": {},
   "outputs": [],
   "source": [
    "from pydeseq2.dds import DeseqDataSet\n",
    "from pydeseq2.default_inference import DefaultInference\n",
    "from pydeseq2.ds import DeseqStats"
   ]
  },
  {
   "cell_type": "code",
   "execution_count": 46,
   "id": "9ac58f21",
   "metadata": {},
   "outputs": [
    {
     "name": "stderr",
     "output_type": "stream",
     "text": [
      "/home/benjamin/anaconda3/lib/python3.11/site-packages/pydeseq2/dds.py:250: UserWarning: Some factor levels in the design contain underscores ('_').\n",
      "                    They will be converted to hyphens ('-').\n",
      "  self.obsm[\"design_matrix\"] = build_design_matrix(\n"
     ]
    }
   ],
   "source": [
    "## We make the deseqdataset (the data structure deseq uses)\n",
    "inference = DefaultInference(n_cpus=8)\n",
    "dds_control = DeseqDataSet(\n",
    "    counts=counts_df,\n",
    "    metadata=metadata,\n",
    "    design_factors=\"condition\",\n",
    "    refit_cooks=True,\n",
    "    inference=inference,\n",
    "    ref_level = [\"condition\", \"Control\"])"
   ]
  },
  {
   "cell_type": "code",
   "execution_count": 47,
   "id": "62022734",
   "metadata": {},
   "outputs": [
    {
     "name": "stderr",
     "output_type": "stream",
     "text": [
      "Fitting size factors...\n",
      "... done in 0.03 seconds.\n",
      "\n",
      "Fitting dispersions...\n",
      "... done in 5.21 seconds.\n",
      "\n",
      "Fitting dispersion trend curve...\n",
      "... done in 1.08 seconds.\n",
      "\n",
      "Fitting MAP dispersions...\n",
      "... done in 5.46 seconds.\n",
      "\n",
      "Fitting LFCs...\n",
      "... done in 3.10 seconds.\n",
      "\n",
      "Refitting 0 outliers.\n",
      "\n"
     ]
    }
   ],
   "source": [
    "## Run deseq2 (differential expression analysis)\n",
    "dds_control.deseq2()"
   ]
  },
  {
   "cell_type": "code",
   "execution_count": 48,
   "id": "56b50d5a",
   "metadata": {},
   "outputs": [
    {
     "data": {
      "text/html": [
       "<div>\n",
       "<style scoped>\n",
       "    .dataframe tbody tr th:only-of-type {\n",
       "        vertical-align: middle;\n",
       "    }\n",
       "\n",
       "    .dataframe tbody tr th {\n",
       "        vertical-align: top;\n",
       "    }\n",
       "\n",
       "    .dataframe thead th {\n",
       "        text-align: right;\n",
       "    }\n",
       "</style>\n",
       "<table border=\"1\" class=\"dataframe\">\n",
       "  <thead>\n",
       "    <tr style=\"text-align: right;\">\n",
       "      <th></th>\n",
       "      <th>intercept</th>\n",
       "      <th>condition_WT_vs_Control</th>\n",
       "      <th>condition_APC-mut_vs_Control</th>\n",
       "    </tr>\n",
       "    <tr>\n",
       "      <th>gene_name</th>\n",
       "      <th></th>\n",
       "      <th></th>\n",
       "      <th></th>\n",
       "    </tr>\n",
       "  </thead>\n",
       "  <tbody>\n",
       "    <tr>\n",
       "      <th>A1BG</th>\n",
       "      <td>-0.441712</td>\n",
       "      <td>0.691604</td>\n",
       "      <td>0.974337</td>\n",
       "    </tr>\n",
       "    <tr>\n",
       "      <th>A1BG-AS1</th>\n",
       "      <td>1.882836</td>\n",
       "      <td>0.199119</td>\n",
       "      <td>-0.125480</td>\n",
       "    </tr>\n",
       "    <tr>\n",
       "      <th>A1CF</th>\n",
       "      <td>0.654150</td>\n",
       "      <td>1.609863</td>\n",
       "      <td>0.758713</td>\n",
       "    </tr>\n",
       "    <tr>\n",
       "      <th>A2M</th>\n",
       "      <td>0.513939</td>\n",
       "      <td>0.295413</td>\n",
       "      <td>0.033406</td>\n",
       "    </tr>\n",
       "    <tr>\n",
       "      <th>A2M-AS1</th>\n",
       "      <td>1.201971</td>\n",
       "      <td>1.157952</td>\n",
       "      <td>0.217498</td>\n",
       "    </tr>\n",
       "  </tbody>\n",
       "</table>\n",
       "</div>"
      ],
      "text/plain": [
       "           intercept  condition_WT_vs_Control  condition_APC-mut_vs_Control\n",
       "gene_name                                                                  \n",
       "A1BG       -0.441712                 0.691604                      0.974337\n",
       "A1BG-AS1    1.882836                 0.199119                     -0.125480\n",
       "A1CF        0.654150                 1.609863                      0.758713\n",
       "A2M         0.513939                 0.295413                      0.033406\n",
       "A2M-AS1     1.201971                 1.157952                      0.217498"
      ]
     },
     "execution_count": 48,
     "metadata": {},
     "output_type": "execute_result"
    }
   ],
   "source": [
    "## Look at the log fold change values\n",
    "dds_control.varm[\"LFC\"].head()"
   ]
  },
  {
   "cell_type": "markdown",
   "id": "c5d4d966",
   "metadata": {},
   "source": [
    "### Calcluate p values and shrink LFCs for APC mut vs Control"
   ]
  },
  {
   "cell_type": "code",
   "execution_count": 50,
   "id": "0fa66a24",
   "metadata": {
    "scrolled": true
   },
   "outputs": [
    {
     "name": "stdout",
     "output_type": "stream",
     "text": [
      "Log2 fold change & Wald test p-value: condition APC-mut vs Control\n",
      "              baseMean  log2FoldChange     lfcSE      stat        pvalue  \\\n",
      "gene_name                                                                  \n",
      "A1BG          1.201651        1.405671  1.971693  0.712926  4.758916e-01   \n",
      "A1BG-AS1      6.768256       -0.181029  0.752814 -0.240470  8.099658e-01   \n",
      "A1CF          5.196975        1.094592  1.217199  0.899271  3.685084e-01   \n",
      "A2M           1.888791        0.048195  1.301985  0.037017  9.704716e-01   \n",
      "A2M-AS1       6.021168        0.313784  0.847597  0.370204  7.112306e-01   \n",
      "...                ...             ...       ...       ...           ...   \n",
      "ZXDC       1443.856959       -0.470899  0.055675 -8.457938  2.721474e-17   \n",
      "ZYG11B      600.154339       -0.442237  0.082114 -5.385676  7.217294e-08   \n",
      "ZYX        7164.599004       -0.699490  0.071278 -9.813605  9.838925e-23   \n",
      "ZZEF1      1355.558492        0.019842  0.065011  0.305218  7.602001e-01   \n",
      "ZZZ3        771.521029       -0.161845  0.074748 -2.165205  3.037202e-02   \n",
      "\n",
      "                   padj  \n",
      "gene_name                \n",
      "A1BG       5.723972e-01  \n",
      "A1BG-AS1   8.605566e-01  \n",
      "A1CF       4.655553e-01  \n",
      "A2M        9.804712e-01  \n",
      "A2M-AS1    7.831623e-01  \n",
      "...                 ...  \n",
      "ZXDC       1.587447e-16  \n",
      "ZYG11B     2.450349e-07  \n",
      "ZYX        7.136776e-22  \n",
      "ZZEF1      8.230200e-01  \n",
      "ZZZ3       5.278764e-02  \n",
      "\n",
      "[16561 rows x 6 columns]\n",
      "Shrunk log2 fold change & Wald test p-value: condition APC-mut vs Control\n",
      "              baseMean  log2FoldChange     lfcSE      stat        pvalue  \\\n",
      "gene_name                                                                  \n",
      "A1BG          1.201651        0.180877  0.721680  0.712926  4.758916e-01   \n",
      "A1BG-AS1      6.768256       -0.088979  0.530282 -0.240470  8.099658e-01   \n",
      "A1CF          5.196975        0.317698  0.695540  0.899271  3.685084e-01   \n",
      "A2M           1.888791        0.011911  0.644403  0.037017  9.704716e-01   \n",
      "A2M-AS1       6.021168        0.137274  0.565664  0.370204  7.112306e-01   \n",
      "...                ...             ...       ...       ...           ...   \n",
      "ZXDC       1443.856959       -0.468571  0.055585 -8.457938  2.721474e-17   \n",
      "ZYG11B      600.154339       -0.437910  0.081801 -5.385676  7.217294e-08   \n",
      "ZYX        7164.599004       -0.693148  0.071136 -9.813605  9.838925e-23   \n",
      "ZZEF1      1355.558492        0.019749  0.064752  0.305218  7.602001e-01   \n",
      "ZZZ3        771.521029       -0.159955  0.074388 -2.165205  3.037202e-02   \n",
      "\n",
      "                   padj  \n",
      "gene_name                \n",
      "A1BG       5.723972e-01  \n",
      "A1BG-AS1   8.605566e-01  \n",
      "A1CF       4.655553e-01  \n",
      "A2M        9.804712e-01  \n",
      "A2M-AS1    7.831623e-01  \n",
      "...                 ...  \n",
      "ZXDC       1.587447e-16  \n",
      "ZYG11B     2.450349e-07  \n",
      "ZYX        7.136776e-22  \n",
      "ZZEF1      8.230200e-01  \n",
      "ZZZ3       5.278764e-02  \n",
      "\n",
      "[16561 rows x 6 columns]\n"
     ]
    }
   ],
   "source": [
    "## APC mut vs Control\n",
    "\n",
    "## Set up the pvalue calculation\n",
    "stat_res_APCvsControl = DeseqStats(dds_control, inference=inference, contrast = [\"condition\", \"APC-mut\", \"Control\"], quiet = True)\n",
    "\n",
    "## Calculate p values\n",
    "stat_res_APCvsControl.summary(quiet = True)\n",
    "\n",
    "## We shrink our fold changes\n",
    "stat_res_APCvsControl.lfc_shrink(coeff=\"condition_APC-mut_vs_Control\")"
   ]
  },
  {
   "cell_type": "code",
   "execution_count": 51,
   "id": "82118691",
   "metadata": {},
   "outputs": [],
   "source": [
    "## Save our output\n",
    "stat_res_APCvsControl.results_df.to_csv(\"APC_APCmut_vs_Control_LFC.csv\")"
   ]
  },
  {
   "cell_type": "code",
   "execution_count": 52,
   "id": "128a9e89",
   "metadata": {},
   "outputs": [
    {
     "data": {
      "text/html": [
       "<div>\n",
       "<style scoped>\n",
       "    .dataframe tbody tr th:only-of-type {\n",
       "        vertical-align: middle;\n",
       "    }\n",
       "\n",
       "    .dataframe tbody tr th {\n",
       "        vertical-align: top;\n",
       "    }\n",
       "\n",
       "    .dataframe thead th {\n",
       "        text-align: right;\n",
       "    }\n",
       "</style>\n",
       "<table border=\"1\" class=\"dataframe\">\n",
       "  <thead>\n",
       "    <tr style=\"text-align: right;\">\n",
       "      <th></th>\n",
       "      <th>baseMean</th>\n",
       "      <th>log2FoldChange</th>\n",
       "      <th>lfcSE</th>\n",
       "      <th>stat</th>\n",
       "      <th>pvalue</th>\n",
       "      <th>padj</th>\n",
       "    </tr>\n",
       "    <tr>\n",
       "      <th>gene_name</th>\n",
       "      <th></th>\n",
       "      <th></th>\n",
       "      <th></th>\n",
       "      <th></th>\n",
       "      <th></th>\n",
       "      <th></th>\n",
       "    </tr>\n",
       "  </thead>\n",
       "  <tbody>\n",
       "    <tr>\n",
       "      <th>A1BG</th>\n",
       "      <td>1.201651</td>\n",
       "      <td>0.180877</td>\n",
       "      <td>0.721680</td>\n",
       "      <td>0.712926</td>\n",
       "      <td>0.475892</td>\n",
       "      <td>0.572397</td>\n",
       "    </tr>\n",
       "    <tr>\n",
       "      <th>A1BG-AS1</th>\n",
       "      <td>6.768256</td>\n",
       "      <td>-0.088979</td>\n",
       "      <td>0.530282</td>\n",
       "      <td>-0.240470</td>\n",
       "      <td>0.809966</td>\n",
       "      <td>0.860557</td>\n",
       "    </tr>\n",
       "    <tr>\n",
       "      <th>A1CF</th>\n",
       "      <td>5.196975</td>\n",
       "      <td>0.317698</td>\n",
       "      <td>0.695540</td>\n",
       "      <td>0.899271</td>\n",
       "      <td>0.368508</td>\n",
       "      <td>0.465555</td>\n",
       "    </tr>\n",
       "    <tr>\n",
       "      <th>A2M</th>\n",
       "      <td>1.888791</td>\n",
       "      <td>0.011911</td>\n",
       "      <td>0.644403</td>\n",
       "      <td>0.037017</td>\n",
       "      <td>0.970472</td>\n",
       "      <td>0.980471</td>\n",
       "    </tr>\n",
       "    <tr>\n",
       "      <th>A2M-AS1</th>\n",
       "      <td>6.021168</td>\n",
       "      <td>0.137274</td>\n",
       "      <td>0.565664</td>\n",
       "      <td>0.370204</td>\n",
       "      <td>0.711231</td>\n",
       "      <td>0.783162</td>\n",
       "    </tr>\n",
       "  </tbody>\n",
       "</table>\n",
       "</div>"
      ],
      "text/plain": [
       "           baseMean  log2FoldChange     lfcSE      stat    pvalue      padj\n",
       "gene_name                                                                  \n",
       "A1BG       1.201651        0.180877  0.721680  0.712926  0.475892  0.572397\n",
       "A1BG-AS1   6.768256       -0.088979  0.530282 -0.240470  0.809966  0.860557\n",
       "A1CF       5.196975        0.317698  0.695540  0.899271  0.368508  0.465555\n",
       "A2M        1.888791        0.011911  0.644403  0.037017  0.970472  0.980471\n",
       "A2M-AS1    6.021168        0.137274  0.565664  0.370204  0.711231  0.783162"
      ]
     },
     "execution_count": 52,
     "metadata": {},
     "output_type": "execute_result"
    }
   ],
   "source": [
    "stat_res_APCvsControl.results_df.head()"
   ]
  },
  {
   "cell_type": "markdown",
   "id": "c164b402",
   "metadata": {},
   "source": [
    "### Calcluate p values and shrink LFCs for WT vs Control"
   ]
  },
  {
   "cell_type": "code",
   "execution_count": 55,
   "id": "85c9f325",
   "metadata": {
    "scrolled": true
   },
   "outputs": [
    {
     "name": "stdout",
     "output_type": "stream",
     "text": [
      "Log2 fold change & Wald test p-value: condition WT vs Control\n",
      "              baseMean  log2FoldChange     lfcSE      stat    pvalue      padj\n",
      "gene_name                                                                     \n",
      "A1BG          1.201651        0.997774  1.996850  0.499674  0.617305       NaN\n",
      "A1BG-AS1      6.768256        0.287267  0.725602  0.395902  0.692177  0.795980\n",
      "A1CF          5.196975        2.322542  1.173313  1.979473  0.047763  0.102712\n",
      "A2M           1.888791        0.426190  1.256309  0.339240  0.734429       NaN\n",
      "A2M-AS1       6.021168        1.670571  0.779962  2.141862  0.032205  0.073796\n",
      "...                ...             ...       ...       ...       ...       ...\n",
      "ZXDC       1443.856959        0.021101  0.053746  0.392598  0.694617  0.797742\n",
      "ZYG11B      600.154339       -0.038229  0.079441 -0.481224  0.630357  0.749374\n",
      "ZYX        7164.599004        0.104478  0.070800  1.475673  0.140032  0.245832\n",
      "ZZEF1      1355.558492        0.195392  0.064272  3.040077  0.002365  0.007736\n",
      "ZZZ3        771.521029       -0.008763  0.073663 -0.118962  0.905306  0.943542\n",
      "\n",
      "[16561 rows x 6 columns]\n",
      "Shrunk log2 fold change & Wald test p-value: condition WT vs Control\n",
      "              baseMean  log2FoldChange     lfcSE      stat    pvalue      padj\n",
      "gene_name                                                                     \n",
      "A1BG          1.201651        0.016623  0.257352  0.499674  0.617305       NaN\n",
      "A1BG-AS1      6.768256        0.032887  0.245994  0.395902  0.692177  0.795980\n",
      "A1CF          5.196975        0.114886  0.291234  1.979473  0.047763  0.102712\n",
      "A2M           1.888791        0.017430  0.254032  0.339240  0.734429       NaN\n",
      "A2M-AS1       6.021168        0.225228  0.390312  2.141862  0.032205  0.073796\n",
      "...                ...             ...       ...       ...       ...       ...\n",
      "ZXDC       1443.856959        0.020269  0.052629  0.392598  0.694617  0.797742\n",
      "ZYG11B      600.154339       -0.035059  0.076013 -0.481224  0.630357  0.749374\n",
      "ZYX        7164.599004        0.100344  0.068742  1.475673  0.140032  0.245832\n",
      "ZZEF1      1355.558492        0.187267  0.063366  3.040077  0.002365  0.007736\n",
      "ZZZ3        771.521029       -0.007734  0.070835 -0.118962  0.905306  0.943542\n",
      "\n",
      "[16561 rows x 6 columns]\n"
     ]
    }
   ],
   "source": [
    "## WT vs Control\n",
    "\n",
    "## Set up the pvalue calculation\n",
    "stat_res_WTvsControl = DeseqStats(dds_control, inference=inference, contrast = [\"condition\", \"WT\", \"Control\"], quiet = True)\n",
    "\n",
    "## Calculate p values\n",
    "stat_res_WTvsControl.summary(quiet = True)\n",
    "\n",
    "## We shrink our fold changes\n",
    "stat_res_WTvsControl.lfc_shrink(coeff=\"condition_WT_vs_Control\")"
   ]
  },
  {
   "cell_type": "code",
   "execution_count": 56,
   "id": "345cb70b",
   "metadata": {},
   "outputs": [],
   "source": [
    "## Save our output\n",
    "stat_res_WTvsControl.results_df.to_csv(\"APC_WT_vs_Control_LFC.csv\")"
   ]
  },
  {
   "cell_type": "code",
   "execution_count": 57,
   "id": "9e3ba126",
   "metadata": {},
   "outputs": [],
   "source": [
    "### To get the final comparison (APC vs WT) we need to rerun deseq2 with WT as the \"base factor\""
   ]
  },
  {
   "cell_type": "code",
   "execution_count": 58,
   "id": "8af35b65",
   "metadata": {},
   "outputs": [
    {
     "name": "stderr",
     "output_type": "stream",
     "text": [
      "/home/benjamin/anaconda3/lib/python3.11/site-packages/pydeseq2/dds.py:250: UserWarning: Some factor levels in the design contain underscores ('_').\n",
      "                    They will be converted to hyphens ('-').\n",
      "  self.obsm[\"design_matrix\"] = build_design_matrix(\n"
     ]
    }
   ],
   "source": [
    "## We make the deseqdataset (the data structure deseq uses)\n",
    "inference = DefaultInference(n_cpus=8)\n",
    "dds_WT = DeseqDataSet(\n",
    "    counts=counts_df,\n",
    "    metadata=metadata,\n",
    "    design_factors=\"condition\",\n",
    "    refit_cooks=True,\n",
    "    inference=inference,\n",
    "    ref_level = [\"condition\", \"WT\"])"
   ]
  },
  {
   "cell_type": "code",
   "execution_count": 59,
   "id": "45b5dc68",
   "metadata": {},
   "outputs": [
    {
     "name": "stderr",
     "output_type": "stream",
     "text": [
      "Fitting size factors...\n",
      "... done in 0.02 seconds.\n",
      "\n",
      "Fitting dispersions...\n",
      "... done in 5.63 seconds.\n",
      "\n",
      "Fitting dispersion trend curve...\n",
      "... done in 0.93 seconds.\n",
      "\n",
      "Fitting MAP dispersions...\n",
      "... done in 5.73 seconds.\n",
      "\n",
      "Fitting LFCs...\n",
      "... done in 3.24 seconds.\n",
      "\n",
      "Refitting 0 outliers.\n",
      "\n"
     ]
    }
   ],
   "source": [
    "## Run deseq2 (differential expression analysis)\n",
    "dds_WT.deseq2()"
   ]
  },
  {
   "cell_type": "markdown",
   "id": "b1b63fd1",
   "metadata": {},
   "source": [
    "### Calculate p values and shrink LFC for APC vs WT"
   ]
  },
  {
   "cell_type": "code",
   "execution_count": 60,
   "id": "a4d20156",
   "metadata": {
    "scrolled": true
   },
   "outputs": [
    {
     "name": "stdout",
     "output_type": "stream",
     "text": [
      "Log2 fold change & Wald test p-value: condition APC-mut vs WT\n",
      "              baseMean  log2FoldChange     lfcSE       stat        pvalue  \\\n",
      "gene_name                                                                   \n",
      "A1BG          1.201651        0.407894  1.825031   0.223500  8.231464e-01   \n",
      "A1BG-AS1      6.768256       -0.468301  0.738071  -0.634493  5.257591e-01   \n",
      "A1CF          5.196975       -1.227948  1.090972  -1.125554  2.603542e-01   \n",
      "A2M           1.888791       -0.377989  1.256532  -0.300819  7.635525e-01   \n",
      "A2M-AS1       6.021168       -1.356785  0.757268  -1.791684  7.318367e-02   \n",
      "...                ...             ...       ...        ...           ...   \n",
      "ZXDC       1443.856959       -0.492000  0.055491  -8.866260  7.564388e-19   \n",
      "ZYG11B      600.154339       -0.404008  0.082065  -4.923026  8.521602e-07   \n",
      "ZYX        7164.599004       -0.803968  0.071191 -11.293139  1.418779e-29   \n",
      "ZZEF1      1355.558492       -0.175549  0.064355  -2.727828  6.375287e-03   \n",
      "ZZZ3        771.521029       -0.153082  0.074585  -2.052438  4.012711e-02   \n",
      "\n",
      "                   padj  \n",
      "gene_name                \n",
      "A1BG       8.641080e-01  \n",
      "A1BG-AS1   6.102166e-01  \n",
      "A1CF       3.398602e-01  \n",
      "A2M        8.169819e-01  \n",
      "A2M-AS1    1.125484e-01  \n",
      "...                 ...  \n",
      "ZXDC       4.540278e-18  \n",
      "ZYG11B     2.515916e-06  \n",
      "ZYX        1.277111e-28  \n",
      "ZZEF1      1.216579e-02  \n",
      "ZZZ3       6.555890e-02  \n",
      "\n",
      "[16561 rows x 6 columns]\n",
      "Shrunk log2 fold change & Wald test p-value: condition APC-mut vs WT\n",
      "              baseMean  log2FoldChange     lfcSE       stat        pvalue  \\\n",
      "gene_name                                                                   \n",
      "A1BG          1.201651        0.061064  0.703875   0.223500  8.231464e-01   \n",
      "A1BG-AS1      6.768256       -0.245690  0.547665  -0.634493  5.257591e-01   \n",
      "A1CF          5.196975       -0.438233  0.729224  -1.125554  2.603542e-01   \n",
      "A2M           1.888791       -0.100814  0.655105  -0.300819  7.635525e-01   \n",
      "A2M-AS1       6.021168       -0.839941  0.701335  -1.791684  7.318367e-02   \n",
      "...                ...             ...       ...        ...           ...   \n",
      "ZXDC       1443.856959       -0.489732  0.055408  -8.866260  7.564388e-19   \n",
      "ZYG11B      600.154339       -0.399981  0.081742  -4.923026  8.521602e-07   \n",
      "ZYX        7164.599004       -0.796006  0.071049 -11.293139  1.418779e-29   \n",
      "ZZEF1      1355.558492       -0.174569  0.064136  -2.727828  6.375287e-03   \n",
      "ZZZ3        771.521029       -0.151423  0.074246  -2.052438  4.012711e-02   \n",
      "\n",
      "                   padj  \n",
      "gene_name                \n",
      "A1BG       8.641080e-01  \n",
      "A1BG-AS1   6.102166e-01  \n",
      "A1CF       3.398602e-01  \n",
      "A2M        8.169819e-01  \n",
      "A2M-AS1    1.125484e-01  \n",
      "...                 ...  \n",
      "ZXDC       4.540278e-18  \n",
      "ZYG11B     2.515916e-06  \n",
      "ZYX        1.277111e-28  \n",
      "ZZEF1      1.216579e-02  \n",
      "ZZZ3       6.555890e-02  \n",
      "\n",
      "[16561 rows x 6 columns]\n"
     ]
    }
   ],
   "source": [
    "## APC vs WT\n",
    "\n",
    "## Set up the pvalue calculation\n",
    "stat_res_APCvsWT = DeseqStats(dds_WT, inference=inference, contrast = [\"condition\", \"APC-mut\", \"WT\"], quiet = True)\n",
    "\n",
    "## Calculate p values\n",
    "stat_res_APCvsWT.summary(quiet = True)\n",
    "\n",
    "## We shrink our fold changes\n",
    "stat_res_APCvsWT.lfc_shrink(coeff=\"condition_APC-mut_vs_WT\")"
   ]
  },
  {
   "cell_type": "code",
   "execution_count": 61,
   "id": "dbd0b013",
   "metadata": {},
   "outputs": [],
   "source": [
    "## Save our output\n",
    "stat_res_APCvsWT.results_df.to_csv(\"APC_APCmut_vs_WT_LFC.csv\")"
   ]
  },
  {
   "cell_type": "markdown",
   "id": "dc3ac1cf",
   "metadata": {},
   "source": [
    "## We have now performed differential expression - to get genes of interest we need to calculate overlaps. The genes changed by APC manipulation should be those that overlap between the two APC mut comparisons, but excluding those different between WT and control"
   ]
  },
  {
   "cell_type": "code",
   "execution_count": 62,
   "id": "734a5199",
   "metadata": {},
   "outputs": [],
   "source": [
    "## APCmut vs WT\n",
    "APCmut_vs_WT = stat_res_APCvsWT.results_df[stat_res_APCvsWT.results_df[\"padj\"] <= 0.05]\n",
    "\n",
    "APCmut_vs_WT = APCmut_vs_WT[abs(APCmut_vs_WT[\"log2FoldChange\"]) > 2]\n",
    "\n",
    "APCmut_vs_WT_genes = set(APCmut_vs_WT.index.tolist())"
   ]
  },
  {
   "cell_type": "code",
   "execution_count": 63,
   "id": "e75626b9",
   "metadata": {},
   "outputs": [],
   "source": [
    "## APCmut vs Control\n",
    "APCmut_vs_Control = stat_res_APCvsControl.results_df[stat_res_APCvsControl.results_df[\"padj\"] <= 0.05]\n",
    "\n",
    "APCmut_vs_Control = APCmut_vs_Control[abs(APCmut_vs_Control[\"log2FoldChange\"]) > 2]\n",
    "\n",
    "APCmut_vs_Control_genes = set(APCmut_vs_Control.index.tolist())"
   ]
  },
  {
   "cell_type": "code",
   "execution_count": 64,
   "id": "749b46a9",
   "metadata": {},
   "outputs": [],
   "source": [
    "## WT vs Control\n",
    "WT_vs_Control = stat_res_WTvsControl.results_df[stat_res_WTvsControl.results_df[\"padj\"] <= 0.05]\n",
    "\n",
    "WT_vs_Control = WT_vs_Control[abs(WT_vs_Control[\"log2FoldChange\"]) > 2]\n",
    "\n",
    "WT_vs_Control_genes = set(WT_vs_Control.index.tolist())"
   ]
  },
  {
   "cell_type": "markdown",
   "id": "44a85d6c",
   "metadata": {},
   "source": [
    "## Make a venn diagram"
   ]
  },
  {
   "cell_type": "code",
   "execution_count": 66,
   "id": "fe0d68f5",
   "metadata": {},
   "outputs": [],
   "source": [
    "import matplotlib.pyplot as plt\n",
    "from matplotlib_venn import venn3"
   ]
  },
  {
   "cell_type": "code",
   "execution_count": 67,
   "id": "521477d4",
   "metadata": {},
   "outputs": [
    {
     "data": {
      "image/png": "[encoded data removed]",
      "text/plain": [
       "<Figure size 640x480 with 1 Axes>"
      ]
     },
     "metadata": {},
     "output_type": "display_data"
    }
   ],
   "source": [
    "venn3([APCmut_vs_WT_genes, APCmut_vs_Control_genes, WT_vs_Control_genes]\n",
    "     ,set_labels = (\"APC mut vs WT\", \"APC mut vs Control\", \"WT vs Control\"))\n",
    "plt.show()"
   ]
  },
  {
   "cell_type": "code",
   "execution_count": 68,
   "id": "b003b953",
   "metadata": {},
   "outputs": [],
   "source": [
    "#### 968 genes are overlapping in the mutant conditions and not involved in the vector"
   ]
  },
  {
   "cell_type": "code",
   "execution_count": 69,
   "id": "a71bc112",
   "metadata": {},
   "outputs": [],
   "source": [
    "APCmut_genes = list((APCmut_vs_Control_genes & APCmut_vs_WT_genes) - WT_vs_Control_genes)"
   ]
  },
  {
   "cell_type": "markdown",
   "id": "fb48fa15",
   "metadata": {},
   "source": [
    "## Make a heatmap"
   ]
  },
  {
   "cell_type": "code",
   "execution_count": 70,
   "id": "dc6a9445",
   "metadata": {},
   "outputs": [],
   "source": [
    "heatmap_genes = TPM_data.T[APCmut_genes].T\n",
    "\n",
    "heatmap_genes = heatmap_genes.loc[~(heatmap_genes==0).all(axis=1)]\n"
   ]
  },
  {
   "cell_type": "code",
   "execution_count": 71,
   "id": "554f54c5",
   "metadata": {},
   "outputs": [
    {
     "data": {
      "image/png": "[encoded data removed]",
      "text/plain": [
       "<Figure size 1000x1000 with 4 Axes>"
      ]
     },
     "metadata": {},
     "output_type": "display_data"
    }
   ],
   "source": [
    "import seaborn as sns\n",
    "sns.clustermap(heatmap_genes, z_score= 0, metric= \"euclidean\", cmap = \"coolwarm\")\n",
    "plt.show()"
   ]
  },
  {
   "cell_type": "markdown",
   "id": "50b6ca71",
   "metadata": {},
   "source": [
    "## Do some enrichment"
   ]
  },
  {
   "cell_type": "code",
   "execution_count": 75,
   "id": "47585989",
   "metadata": {},
   "outputs": [
    {
     "ename": "ImportError",
     "evalue": "cannot import name 'GProfiler' from 'gprofiler' (/home/benjamin/anaconda3/lib/python3.11/site-packages/gprofiler/__init__.py)",
     "output_type": "error",
     "traceback": [
      "\u001b[0;31m---------------------------------------------------------------------------\u001b[0m",
      "\u001b[0;31mImportError\u001b[0m                               Traceback (most recent call last)",
      "Cell \u001b[0;32mIn[75], line 1\u001b[0m\n\u001b[0;32m----> 1\u001b[0m \u001b[38;5;28;01mfrom\u001b[39;00m \u001b[38;5;21;01mgprofiler\u001b[39;00m \u001b[38;5;28;01mimport\u001b[39;00m GProfiler\n\u001b[1;32m      3\u001b[0m gp \u001b[38;5;241m=\u001b[39m GProfiler(return_dataframe\u001b[38;5;241m=\u001b[39m\u001b[38;5;28;01mTrue\u001b[39;00m)\n\u001b[1;32m      4\u001b[0m gp\u001b[38;5;241m.\u001b[39mprofile(organism\u001b[38;5;241m=\u001b[39m\u001b[38;5;124m'\u001b[39m\u001b[38;5;124mhsapiens\u001b[39m\u001b[38;5;124m'\u001b[39m,\n\u001b[1;32m      5\u001b[0m             query\u001b[38;5;241m=\u001b[39mAPCmut_genes)\n",
      "\u001b[0;31mImportError\u001b[0m: cannot import name 'GProfiler' from 'gprofiler' (/home/benjamin/anaconda3/lib/python3.11/site-packages/gprofiler/__init__.py)"
     ]
    }
   ],
   "source": [
    "from gprofiler import GProfiler\n",
    "\n",
    "gp = GProfiler(return_dataframe=True)\n",
    "gp.profile(organism='hsapiens',\n",
    "            query=APCmut_genes)"
   ]
  },
  {
   "cell_type": "code",
   "execution_count": 74,
   "id": "e548cef9",
   "metadata": {},
   "outputs": [
    {
     "ename": "ModuleNotFoundError",
     "evalue": "No module named 'gseapy'",
     "output_type": "error",
     "traceback": [
      "\u001b[0;31m---------------------------------------------------------------------------\u001b[0m",
      "\u001b[0;31mModuleNotFoundError\u001b[0m                       Traceback (most recent call last)",
      "Cell \u001b[0;32mIn[74], line 1\u001b[0m\n\u001b[0;32m----> 1\u001b[0m \u001b[38;5;28;01mimport\u001b[39;00m \u001b[38;5;21;01mgseapy\u001b[39;00m \u001b[38;5;28;01mas\u001b[39;00m \u001b[38;5;21;01mgp\u001b[39;00m\n\u001b[1;32m      3\u001b[0m enr \u001b[38;5;241m=\u001b[39m gp\u001b[38;5;241m.\u001b[39menrichr(gene_list\u001b[38;5;241m=\u001b[39mAPCmut_genes, \u001b[38;5;66;03m# or \"./tests/data/gene_list.txt\",\u001b[39;00m\n\u001b[1;32m      4\u001b[0m                  gene_sets\u001b[38;5;241m=\u001b[39m[\u001b[38;5;124m'\u001b[39m\u001b[38;5;124mMSigDB_Hallmark_2020\u001b[39m\u001b[38;5;124m'\u001b[39m,\u001b[38;5;124m'\u001b[39m\u001b[38;5;124mKEGG_2021_Human\u001b[39m\u001b[38;5;124m'\u001b[39m],\n\u001b[1;32m      5\u001b[0m                  organism\u001b[38;5;241m=\u001b[39m\u001b[38;5;124m'\u001b[39m\u001b[38;5;124mhuman\u001b[39m\u001b[38;5;124m'\u001b[39m, \u001b[38;5;66;03m# don't forget to set organism to the one you desired! e.g. Yeast\u001b[39;00m\n\u001b[1;32m      6\u001b[0m                  outdir\u001b[38;5;241m=\u001b[39m\u001b[38;5;28;01mNone\u001b[39;00m, \u001b[38;5;66;03m# don't write to disk\u001b[39;00m\n\u001b[1;32m      7\u001b[0m                 )\n",
      "\u001b[0;31mModuleNotFoundError\u001b[0m: No module named 'gseapy'"
     ]
    }
   ],
   "source": [
    "import gseapy as gp\n",
    "\n",
    "enr = gp.enrichr(gene_list=APCmut_genes, # or \"./tests/data/gene_list.txt\",\n",
    "                 gene_sets=['MSigDB_Hallmark_2020','KEGG_2021_Human'],\n",
    "                 organism='human', # don't forget to set organism to the one you desired! e.g. Yeast\n",
    "                 outdir=None, # don't write to disk\n",
    "                )"
   ]
  },
  {
   "cell_type": "code",
   "execution_count": null,
   "id": "1e29b3c9",
   "metadata": {},
   "outputs": [],
   "source": [
    "enr.results"
   ]
  },
  {
   "cell_type": "code",
   "execution_count": null,
   "id": "0e4d5adc",
   "metadata": {},
   "outputs": [],
   "source": [
    "## Gene list which can be copy-pasted into many online tools as well\n",
    "for item in APCmut_genes:\n",
    "    print(item)"
   ]
  },
  {
   "cell_type": "markdown",
   "id": "57d35153",
   "metadata": {},
   "source": [
    "# Getting started with mapping networks\n",
    "\n"
   ]
  }
 ],
 "metadata": {
  "kernelspec": {
   "display_name": "Python 3 (ipykernel)",
   "language": "python",
   "name": "python3"
  },
  "language_info": {
   "codemirror_mode": {
    "name": "ipython",
    "version": 3
   },
   "file_extension": ".py",
   "mimetype": "text/x-python",
   "name": "python",
   "nbconvert_exporter": "python",
   "pygments_lexer": "ipython3",
   "version": "3.11.5"
  }
 },
 "nbformat": 4,
 "nbformat_minor": 5
}
